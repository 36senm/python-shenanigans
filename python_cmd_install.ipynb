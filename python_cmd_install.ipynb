{
 "cells": [
  {
   "attachments": {},
   "cell_type": "markdown",
   "metadata": {},
   "source": [
    "\"C:\\Users\\WINDOWS 10\\AppData\\Local\\Programs\\Python\\Python310\\python.exe\" -m pip install"
   ]
  },
  {
   "attachments": {},
   "cell_type": "markdown",
   "metadata": {},
   "source": [
    "\"C:\\Users\\WINDOWS 10\\AppData\\Local\\Programs\\Python\\Python310\\python.exe\" -m pip install --upgrade"
   ]
  }
 ],
 "metadata": {
  "language_info": {
   "name": "python"
  },
  "orig_nbformat": 4
 },
 "nbformat": 4,
 "nbformat_minor": 2
}
