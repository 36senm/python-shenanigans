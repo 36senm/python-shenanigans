{
 "cells": [
  {
   "attachments": {},
   "cell_type": "markdown",
   "metadata": {},
   "source": [
    "**Objective**"
   ]
  },
  {
   "attachments": {},
   "cell_type": "markdown",
   "metadata": {},
   "source": [
    "Given an array arr, replace every element in that array with the greatest element among the elements to its right, and replace the last element with -1."
   ]
  },
  {
   "cell_type": "code",
   "execution_count": 5,
   "metadata": {},
   "outputs": [],
   "source": [
    "#error\n",
    "class Solution(object):\n",
    "    def replaceElements(self, arr):\n",
    "        for i, n in enumerate(arr):\n",
    "            ans = []\n",
    "            if n[i] > n[i+1]:\n",
    "                n[i] += 1 + n\n",
    "                ans.append(n[i]) \n",
    "            else:\n",
    "                ans.append(n[i])\n"
   ]
  },
  {
   "cell_type": "code",
   "execution_count": 20,
   "metadata": {},
   "outputs": [],
   "source": [
    "class Solution(object):\n",
    "    def replaceElements(self, arr):\n",
    "        ans = []\n",
    "        for i in range(len(arr)-1):\n",
    "            if arr[i] > arr[i+1]:\n",
    "                ans.append(arr[i])\n",
    "            else: \n",
    "                ans.append(arr[i+1])\n",
    "        ans.append(-1)\n",
    "        return ans"
   ]
  },
  {
   "attachments": {},
   "cell_type": "markdown",
   "metadata": {},
   "source": [
    "**ans = []**\n",
    "here we have empty list to store the greatest element from the given list. \n",
    "\n",
    "**for i in range(len(arr)-1):**\n",
    "first sequence, i is range of len arr-1, which is if arr = [1,2,3,4] hence i is len(arr) makes i = 4 and range from 4 indicies is 0,1,2,3, hence makes the value of i = 0,1,2,3. now you may confused why there is -1? so we are going to acces arr[i+1] inside the for loops, if we didnt substrack 1 from len(arr), it will result list index out of error (will provide example below). \n",
    "\n",
    "**if arr[i] > arr [i+1]:**\n",
    "next is we are going to check if the value of arr[i] is bigger than arr[i+1] which is on the value on the right side. \n",
    "**ans.append(arr[i])** \n",
    "if the value is True, then value from arr[i] which bigger than value arr[i+1] will appended to list ans. \n",
    "example: lets say arr[i] is index 0 from [2,1,3], which makes arr[i] = 2. we know that arr[i+1] is index 1 from [2,1,3], makes the value from arr[i+1] = 1. since arr[i] is bigger than arr[i+1], we will append arr[i] to the ans list. \n",
    "\n",
    "**else**\n",
    "if the value of arr[i+1] is bigger than arr[i], then value from arr[i+1] that will get appened inside list ans.\n",
    "\n",
    "**ans.append(-1)**\n",
    "the reason why we put ans.append -1 after the loop is that, so after the loop is done iterating through all elements of the list, we are going to append -1 into the last list. \n"
   ]
  },
  {
   "cell_type": "code",
   "execution_count": 21,
   "metadata": {},
   "outputs": [],
   "source": [
    "numtest = [1,2,3,4,5,6]\n",
    "numtest1 = [5,15,67,2,3,45,22]"
   ]
  },
  {
   "cell_type": "code",
   "execution_count": 22,
   "metadata": {},
   "outputs": [],
   "source": [
    "Counter = Solution()"
   ]
  },
  {
   "cell_type": "code",
   "execution_count": 23,
   "metadata": {},
   "outputs": [],
   "source": [
    "turai = Counter.replaceElements(numtest1)"
   ]
  },
  {
   "cell_type": "code",
   "execution_count": 24,
   "metadata": {},
   "outputs": [
    {
     "data": {
      "text/plain": [
       "[15, 67, 67, 3, 45, 45, -1]"
      ]
     },
     "execution_count": 24,
     "metadata": {},
     "output_type": "execute_result"
    }
   ],
   "source": [
    "turai "
   ]
  },
  {
   "cell_type": "code",
   "execution_count": 30,
   "metadata": {},
   "outputs": [],
   "source": [
    "#without -1\n",
    "class Solution(object):\n",
    "    def replaceElements(self, arr):\n",
    "        ans = []\n",
    "        for i in range(len(arr)):\n",
    "            if arr[i] > arr[i+1]:\n",
    "                ans.append(arr[i])\n",
    "            else: \n",
    "                ans.append(arr[i+1])\n",
    "        ans.append(-1)\n",
    "        return ans"
   ]
  },
  {
   "cell_type": "code",
   "execution_count": 31,
   "metadata": {},
   "outputs": [
    {
     "ename": "IndexError",
     "evalue": "list index out of range",
     "output_type": "error",
     "traceback": [
      "\u001b[1;31m---------------------------------------------------------------------------\u001b[0m",
      "\u001b[1;31mIndexError\u001b[0m                                Traceback (most recent call last)",
      "\u001b[1;32mUntitled-1.ipynb Cell 11\u001b[0m in \u001b[0;36m<cell line: 2>\u001b[1;34m()\u001b[0m\n\u001b[0;32m      <a href='vscode-notebook-cell:Untitled-1.ipynb?jupyter-notebook#X14sdW50aXRsZWQ%3D?line=0'>1</a>\u001b[0m Counter2 \u001b[39m=\u001b[39m Solution()\n\u001b[1;32m----> <a href='vscode-notebook-cell:Untitled-1.ipynb?jupyter-notebook#X14sdW50aXRsZWQ%3D?line=1'>2</a>\u001b[0m h1 \u001b[39m=\u001b[39m Counter2\u001b[39m.\u001b[39;49mreplaceElements(numtest)\n",
      "\u001b[1;32mUntitled-1.ipynb Cell 11\u001b[0m in \u001b[0;36mSolution.replaceElements\u001b[1;34m(self, arr)\u001b[0m\n\u001b[0;32m      <a href='vscode-notebook-cell:Untitled-1.ipynb?jupyter-notebook#X14sdW50aXRsZWQ%3D?line=3'>4</a>\u001b[0m ans \u001b[39m=\u001b[39m []\n\u001b[0;32m      <a href='vscode-notebook-cell:Untitled-1.ipynb?jupyter-notebook#X14sdW50aXRsZWQ%3D?line=4'>5</a>\u001b[0m \u001b[39mfor\u001b[39;00m i \u001b[39min\u001b[39;00m \u001b[39mrange\u001b[39m(\u001b[39mlen\u001b[39m(arr)):\n\u001b[1;32m----> <a href='vscode-notebook-cell:Untitled-1.ipynb?jupyter-notebook#X14sdW50aXRsZWQ%3D?line=5'>6</a>\u001b[0m     \u001b[39mif\u001b[39;00m arr[i] \u001b[39m>\u001b[39m arr[i\u001b[39m+\u001b[39;49m\u001b[39m1\u001b[39;49m]:\n\u001b[0;32m      <a href='vscode-notebook-cell:Untitled-1.ipynb?jupyter-notebook#X14sdW50aXRsZWQ%3D?line=6'>7</a>\u001b[0m         ans\u001b[39m.\u001b[39mappend(arr[i])\n\u001b[0;32m      <a href='vscode-notebook-cell:Untitled-1.ipynb?jupyter-notebook#X14sdW50aXRsZWQ%3D?line=7'>8</a>\u001b[0m     \u001b[39melse\u001b[39;00m: \n",
      "\u001b[1;31mIndexError\u001b[0m: list index out of range"
     ]
    }
   ],
   "source": [
    "Counter2 = Solution()\n",
    "h1 = Counter2.replaceElements(numtest)"
   ]
  },
  {
   "attachments": {},
   "cell_type": "markdown",
   "metadata": {},
   "source": [
    "**Provided Answer**"
   ]
  },
  {
   "cell_type": "code",
   "execution_count": 32,
   "metadata": {},
   "outputs": [],
   "source": [
    "class Solution:\n",
    "    def replaceElements(self, arr: list[int]) -> list[int]:\n",
    "        rightMax = -1\n",
    "        for i in range(len(arr) -1, -1, -1):\n",
    "            newMax = max(rightMax, arr[i])\n",
    "            arr[i] = rightMax\n",
    "            rightMax = newMax\n",
    "        return arr\n"
   ]
  }
 ],
 "metadata": {
  "kernelspec": {
   "display_name": "base",
   "language": "python",
   "name": "python3"
  },
  "language_info": {
   "codemirror_mode": {
    "name": "ipython",
    "version": 3
   },
   "file_extension": ".py",
   "mimetype": "text/x-python",
   "name": "python",
   "nbconvert_exporter": "python",
   "pygments_lexer": "ipython3",
   "version": "3.9.12"
  },
  "orig_nbformat": 4
 },
 "nbformat": 4,
 "nbformat_minor": 2
}
