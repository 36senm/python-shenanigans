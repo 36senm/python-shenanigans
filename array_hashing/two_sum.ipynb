{
 "cells": [
  {
   "attachments": {},
   "cell_type": "markdown",
   "metadata": {},
   "source": [
    "**Problem**"
   ]
  },
  {
   "attachments": {},
   "cell_type": "markdown",
   "metadata": {},
   "source": [
    "Given an array of integers nums and an integer target, return indices of the two numbers such that they add up to target.\n",
    "\n",
    "You may assume that each input would have exactly one solution, and you may not use the same element twice.\n",
    "\n",
    "You can return the answer in any order"
   ]
  },
  {
   "attachments": {},
   "cell_type": "markdown",
   "metadata": {},
   "source": [
    "Input: nums = [2,7,11,15], target = 9\n",
    "\n",
    "Output: [0,1]\n",
    "\n",
    "Explanation: Because nums[0] + nums[1] == 9, we return [0, 1]."
   ]
  },
  {
   "cell_type": "code",
   "execution_count": 25,
   "metadata": {},
   "outputs": [],
   "source": [
    "def twoSums(n, t):\n",
    "    out = {}\n",
    "    for i, k in enumerate(n):    \n",
    "        deduc = t - k\n",
    "        if deduc in out:\n",
    "            return [out[deduc], i]\n",
    "        out[k] = i\n"
   ]
  },
  {
   "attachments": {},
   "cell_type": "markdown",
   "metadata": {},
   "source": [
    "**out = {}**\n",
    "\n",
    "in this method, we gonna need hashmap that is gonna store of every elements that come before the second element that sum up of the target. we are gonna mapping the value and the index.\n",
    "\n",
    "**for 'i', k in enumerate(n)**\n",
    "\n",
    "'i' stand for index number of the current element being iterated, while 'k' is a representation of element itself. if n = [1,2,3,4] then 'i' is a len index 'i' = 4 which make 'i' is index that start from 0,1,2,3. meanwhile 'k', gonna represent from index 'i', which is if iterated 'i' start from index 0, hence make value of 'k' is 1. because 'i'(0) from list n that represented as 'k', is 1 so it makes value of 'k' = 1 in the first iteration.\n",
    "\n",
    "\n",
    "**deduc = t - k**\n",
    "\n",
    "on the first iteration, we know that value of 'i' = 0 and 'k' = 1. we create a variable to store what is the target of what index we want to get. if we set the target which is represented as 't' = 4, then the value of the 'deduc = 4 - 1' we get the result deduc = 3.\n",
    "\n",
    "**if deduc in out:**\n",
    "\n",
    "after we know the result of deduc, we create a conditional statements, if the result of deduc is in hashmap out, then we gonna return the result of deduc and index position on where the k is in deduc= t - k. example is if the result of deduc = 3, and 3 is in our hashmap out, then we gonna return where is out[deduc], and the index of i where it iterates. lets say if out[deduc] value from n is in index 0, then the output of return '[out[deduc], i]' is [0,2]. where 1 from index n is 1, 2 is the value of deduc = 3 that can be found in index 2 of n. (this is just example)\n",
    "\n",
    "**out[k] = i**\n",
    "\n",
    "so what happened if there is no value in out after using if statement? we gonna update the hashmap out using this method, by going if this value of deduc is not found in hashmap, then we gonna put k in out based on where index i is iterated."
   ]
  },
  {
   "cell_type": "code",
   "execution_count": 28,
   "metadata": {},
   "outputs": [],
   "source": [
    "nums, target = [1,2,3,6,5], 4"
   ]
  },
  {
   "cell_type": "code",
   "execution_count": 29,
   "metadata": {},
   "outputs": [
    {
     "data": {
      "text/plain": [
       "[0, 2]"
      ]
     },
     "execution_count": 29,
     "metadata": {},
     "output_type": "execute_result"
    }
   ],
   "source": [
    "twoSums(nums, target)"
   ]
  },
  {
   "attachments": {},
   "cell_type": "markdown",
   "metadata": {},
   "source": [
    "**Provided Answer**"
   ]
  },
  {
   "cell_type": "code",
   "execution_count": 31,
   "metadata": {},
   "outputs": [],
   "source": [
    "def twoSum(self, nums: list[int], target: int) -> list[int]:\n",
    "    prevMap = {}  # val -> index\n",
    "\n",
    "    for i, n in enumerate(nums):\n",
    "        diff = target - n\n",
    "        if diff in prevMap:\n",
    "            return [prevMap[diff], i]\n",
    "        prevMap[n] = i\n"
   ]
  }
 ],
 "metadata": {
  "kernelspec": {
   "display_name": "base",
   "language": "python",
   "name": "python3"
  },
  "language_info": {
   "codemirror_mode": {
    "name": "ipython",
    "version": 3
   },
   "file_extension": ".py",
   "mimetype": "text/x-python",
   "name": "python",
   "nbconvert_exporter": "python",
   "pygments_lexer": "ipython3",
   "version": "3.9.12"
  },
  "orig_nbformat": 4
 },
 "nbformat": 4,
 "nbformat_minor": 2
}
