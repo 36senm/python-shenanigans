{
 "cells": [
  {
   "attachments": {},
   "cell_type": "markdown",
   "metadata": {},
   "source": [
    "**Problem**\n",
    "\n",
    "Given two strings s and t, return true if s is a subsequence of t, or false otherwise.\n",
    "\n",
    "A subsequence of a string is a new string that is formed from the original string by deleting some (can be none) of the characters without disturbing the relative positions of the remaining characters. (i.e., \"ace\" is a subsequence of \"abcde\" while \"aec\" is not)."
   ]
  },
  {
   "cell_type": "code",
   "execution_count": 27,
   "metadata": {},
   "outputs": [],
   "source": [
    "def subse(s, t):\n",
    "    i, j = 0, 0\n",
    "    while i < len(s) and j < len(t):\n",
    "        if s[i] == t[j]:\n",
    "            i += 1 \n",
    "        j += 1\n",
    "    return True if i == len(s) else False"
   ]
  },
  {
   "attachments": {},
   "cell_type": "markdown",
   "metadata": {},
   "source": [
    "**i, j = 0, 0**\n",
    "this part will have role as a pointer of the initialize of index\n",
    "\n",
    "**while i < len(s) and j < len(t):**\n",
    "a little bit of briefe case, a \"while loop\" is used when you don't know how many times you need to do something, but you keep doing it until a condition is met. A \"for loop\" is used when you know how many times you need to do something and you do it that many times.\n",
    "\n",
    "the line of the code can be read as while i is smaller than len(s) and j is smaller than len(t), this one will always be iterated untill all the subsequence word have been fulfilled in the loops. \n",
    "the first iteration is 0, next is 1, next is 2, untill.... \n",
    "\n",
    "**if s[i] == t[j]:**\n",
    "now after the start of iterations, there is a condition where if s[i] == t[j], lets say we just initialize the code hence make the value of i, j = 0. so if s(which is sentence)[0] == t(which is the target)[0] we move to the the 'what' condition.\n",
    "\n",
    "**i += 1**\n",
    "the condition from if s[i] == t[j]: is that if its True, then i += 1 or i = i + 1. if s[0] == t[0] result is True, then move to s[1] == t[1] and so on. remember, this is subsequence character, hence we will not iterate the back to the first character since there is no point in doing it.\n",
    "\n",
    "**j += 1**\n",
    "now you might wonder why there is j = j + 1, well if s[i] == t[j]: is False, then we are going to add the pointer 'j' to the next value. if as i mention, if the result is False then s[1] == t[2], if still False then s[1] == t[3] and so on. untill...\n",
    "\n",
    "**return True if i == len(s) else False**\n",
    "we complete the loop if the value i is equal to len(s). aka, the pointer is stop at whatever the len(s) is."
   ]
  },
  {
   "cell_type": "code",
   "execution_count": 28,
   "metadata": {},
   "outputs": [],
   "source": [
    "s, t = ['a','f','g','e','w'], ['a','f','w']\n"
   ]
  },
  {
   "cell_type": "code",
   "execution_count": 29,
   "metadata": {},
   "outputs": [
    {
     "data": {
      "text/plain": [
       "True"
      ]
     },
     "execution_count": 29,
     "metadata": {},
     "output_type": "execute_result"
    }
   ],
   "source": [
    "subse(t, s)"
   ]
  },
  {
   "attachments": {},
   "cell_type": "markdown",
   "metadata": {},
   "source": [
    "you learn something new everyday, so in python arithmetic operators follow the usual order of operations, which is:\n",
    "\n",
    "1. Parentheses\n",
    "2. Exponentiation\n",
    "3. Multiplication and Division (from left to right)\n",
    "4. Addition and Subtraction (from left to right)"
   ]
  },
  {
   "attachments": {},
   "cell_type": "markdown",
   "metadata": {},
   "source": [
    "or the simpliest are PEMDAS\n",
    "\n",
    "P – Parentheses\n",
    "\n",
    "E – Exponentiation\n",
    "\n",
    "M – Multiplication\n",
    "\n",
    "D – Division\n",
    "\n",
    "A – Addition\n",
    "\n",
    "S – Subtraction"
   ]
  },
  {
   "cell_type": "markdown",
   "metadata": {},
   "source": []
  }
 ],
 "metadata": {
  "kernelspec": {
   "display_name": "base",
   "language": "python",
   "name": "python3"
  },
  "language_info": {
   "codemirror_mode": {
    "name": "ipython",
    "version": 3
   },
   "file_extension": ".py",
   "mimetype": "text/x-python",
   "name": "python",
   "nbconvert_exporter": "python",
   "pygments_lexer": "ipython3",
   "version": "3.9.12"
  },
  "orig_nbformat": 4
 },
 "nbformat": 4,
 "nbformat_minor": 2
}
