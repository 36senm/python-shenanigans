{
 "cells": [
  {
   "attachments": {},
   "cell_type": "markdown",
   "metadata": {},
   "source": [
    "**Problem**\n",
    "\n",
    "Given a string s consisting of words and spaces, return the length of the last word in the string.\n",
    "\n",
    "A word is a maximal \n",
    "substring\n",
    "consisting of non-space characters only.\n",
    "\n",
    "Input: s = \"Hello World\"\n",
    "Output: 5\n",
    "Explanation: The last word is \"World\" with length 5."
   ]
  },
  {
   "cell_type": "code",
   "execution_count": 12,
   "metadata": {},
   "outputs": [],
   "source": [
    "sentence = \"today is a great day\""
   ]
  },
  {
   "attachments": {},
   "cell_type": "markdown",
   "metadata": {},
   "source": [
    "**Trial**"
   ]
  },
  {
   "cell_type": "code",
   "execution_count": 17,
   "metadata": {},
   "outputs": [],
   "source": [
    "class Solution_a(object):\n",
    "    def len_sen(self, s):\n",
    "        n = 0\n",
    "        word = []\n",
    "        while n < len(s):\n",
    "            if s[n] == chr:\n",
    "                word.append(s[n])\n",
    "            if s[n] == ' ':\n",
    "                n += 1\n",
    "            else:\n",
    "                word.append(s[n])\n",
    "                # if not word or word[-1] == ' ':\n",
    "                #     word.append(s[n])\n",
    "                # else:\n",
    "                #     word[-1] += s[n]\n",
    "            n += 1\n",
    "        return word"
   ]
  },
  {
   "attachments": {},
   "cell_type": "markdown",
   "metadata": {},
   "source": [
    "**Provided Answer**"
   ]
  },
  {
   "cell_type": "code",
   "execution_count": 22,
   "metadata": {},
   "outputs": [],
   "source": [
    "class Solution_a(object):\n",
    "    def len_sen(self, s):\n",
    "        i, n = len(s) -1, 0\n",
    "        while s[i] == \" \":\n",
    "            i -= 1\n",
    "        while i >= 0 and s[i] != \" \":\n",
    "            n += 1\n",
    "            i -= 1\n",
    "        return n"
   ]
  },
  {
   "attachments": {},
   "cell_type": "markdown",
   "metadata": {},
   "source": [
    "you learn new things everyda. at first i was confused what is len(s)-1, 0 in means that how many len(s)-1 is, that is the value of i. hence if len(s) is 8, then the value of i is 7. thats is where we gonna start as an index. 1 thing is certain is that since len() always include the whitespaces as is something that stand alone, hence it will count as 1. eg. \"hello world\" the len is gonna be 11. "
   ]
  },
  {
   "cell_type": "code",
   "execution_count": 25,
   "metadata": {},
   "outputs": [],
   "source": [
    "var_a = Solution_a()\n",
    "len_word_a = var_a.len_sen(sentence)"
   ]
  },
  {
   "cell_type": "code",
   "execution_count": 24,
   "metadata": {},
   "outputs": [
    {
     "data": {
      "text/plain": [
       "3"
      ]
     },
     "execution_count": 24,
     "metadata": {},
     "output_type": "execute_result"
    }
   ],
   "source": [
    "len_word_a"
   ]
  },
  {
   "attachments": {},
   "cell_type": "markdown",
   "metadata": {},
   "source": [
    "**My own Method**"
   ]
  },
  {
   "cell_type": "code",
   "execution_count": 7,
   "metadata": {},
   "outputs": [],
   "source": [
    "class Solution(object):\n",
    "    def len_word(self, s):\n",
    "        s = s.split()\n",
    "        return len(s[-1])"
   ]
  },
  {
   "cell_type": "code",
   "execution_count": 9,
   "metadata": {},
   "outputs": [],
   "source": [
    "var = Solution()\n",
    "len_word = var.len_word(sentence)"
   ]
  },
  {
   "cell_type": "code",
   "execution_count": 10,
   "metadata": {},
   "outputs": [
    {
     "data": {
      "text/plain": [
       "3"
      ]
     },
     "execution_count": 10,
     "metadata": {},
     "output_type": "execute_result"
    }
   ],
   "source": [
    "len_word"
   ]
  }
 ],
 "metadata": {
  "kernelspec": {
   "display_name": "base",
   "language": "python",
   "name": "python3"
  },
  "language_info": {
   "codemirror_mode": {
    "name": "ipython",
    "version": 3
   },
   "file_extension": ".py",
   "mimetype": "text/x-python",
   "name": "python",
   "nbconvert_exporter": "python",
   "pygments_lexer": "ipython3",
   "version": "3.9.12"
  },
  "orig_nbformat": 4
 },
 "nbformat": 4,
 "nbformat_minor": 2
}
