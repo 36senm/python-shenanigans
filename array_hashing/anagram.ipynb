{
 "cells": [
  {
   "cell_type": "code",
   "execution_count": 18,
   "metadata": {},
   "outputs": [],
   "source": [
    "s = 'kudkawg'\n",
    "t = 'dauurw'"
   ]
  },
  {
   "cell_type": "code",
   "execution_count": 22,
   "metadata": {},
   "outputs": [],
   "source": [
    "def isAnagram(s,t):\n",
    "    if len(s) != len(t):\n",
    "        if len(s) > len(t):\n",
    "            t += '*' * (len(s)-len(t)) \n",
    "        if len(s) < len(t):\n",
    "            s += '*' * (len(t)-len(s))\n",
    "    wS, wT = {}, {}\n",
    "\n",
    "    for i in range(len(s)):\n",
    "        if s[i] not in wS:\n",
    "            wS[s[i]] = 0\n",
    "        wS[s[i]] += 1 \n",
    "\n",
    "        if t[i] not in wT:\n",
    "            wT[t[i]] = 0\n",
    "        wT[t[i]] += 1\n",
    "    return wS == wT\n",
    "    #return wS, wT"
   ]
  },
  {
   "cell_type": "code",
   "execution_count": 23,
   "metadata": {},
   "outputs": [
    {
     "data": {
      "text/plain": [
       "({'k': 2, 'u': 1, 'd': 1, 'a': 1, 'w': 1, 'g': 1},\n",
       " {'d': 1, 'a': 1, 'u': 2, 'r': 1, 'w': 1, '*': 1})"
      ]
     },
     "execution_count": 23,
     "metadata": {},
     "output_type": "execute_result"
    }
   ],
   "source": [
    "isAnagram(s,t)"
   ]
  },
  {
   "attachments": {},
   "cell_type": "markdown",
   "metadata": {},
   "source": [
    "**Provided Answer**"
   ]
  },
  {
   "cell_type": "code",
   "execution_count": 26,
   "metadata": {},
   "outputs": [],
   "source": [
    "def Anagram(s,t) -> bool:\n",
    "    if len(s) != len(t):\n",
    "        return False\n",
    "    #check the word\n",
    "    pS, pT = {}, {}\n",
    "    for i in range(len(s)):\n",
    "        pS[s[i]] = 1 + pS.get(s[i], 0)\n",
    "        pT[t[i]] = 1 + pT.get(t[i], 0)\n",
    "\n",
    "    return pS == pT\n"
   ]
  },
  {
   "cell_type": "code",
   "execution_count": 27,
   "metadata": {},
   "outputs": [
    {
     "data": {
      "text/plain": [
       "False"
      ]
     },
     "execution_count": 27,
     "metadata": {},
     "output_type": "execute_result"
    }
   ],
   "source": [
    "Anagram(s,t)"
   ]
  },
  {
   "cell_type": "code",
   "execution_count": null,
   "metadata": {},
   "outputs": [],
   "source": []
  },
  {
   "cell_type": "code",
   "execution_count": null,
   "metadata": {},
   "outputs": [],
   "source": []
  }
 ],
 "metadata": {
  "kernelspec": {
   "display_name": "base",
   "language": "python",
   "name": "python3"
  },
  "language_info": {
   "codemirror_mode": {
    "name": "ipython",
    "version": 3
   },
   "file_extension": ".py",
   "mimetype": "text/x-python",
   "name": "python",
   "nbconvert_exporter": "python",
   "pygments_lexer": "ipython3",
   "version": "3.9.12"
  },
  "orig_nbformat": 4
 },
 "nbformat": 4,
 "nbformat_minor": 2
}
