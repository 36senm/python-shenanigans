{
 "cells": [
  {
   "attachments": {},
   "cell_type": "markdown",
   "metadata": {},
   "source": [
    "i learn new things everyday. you should naming your variable into something that has meaning. never abbreviate."
   ]
  },
  {
   "attachments": {},
   "cell_type": "markdown",
   "metadata": {},
   "source": [
    "**Problem**\n",
    "\n",
    "Given an array of strings strs, group the anagrams together. You can return the answer in any order.\n",
    "\n",
    "An Anagram is a word or phrase formed by rearranging the letters of a different word or phrase, typically using all the original letters exactly once.\n",
    "\n",
    "Input: strs = [\"eat\",\"tea\",\"tan\",\"ate\",\"nat\",\"bat\"]\n",
    "\n",
    "Output: [[\"bat\"],[\"nat\",\"tan\"],[\"ate\",\"eat\",\"tea\"]]"
   ]
  },
  {
   "cell_type": "code",
   "execution_count": 1,
   "metadata": {},
   "outputs": [],
   "source": [
    "strs = [\"eat\",\"tea\",\"tan\",\"ate\",\"nat\",\"bat\"]"
   ]
  },
  {
   "cell_type": "code",
   "execution_count": 10,
   "metadata": {},
   "outputs": [
    {
     "name": "stdout",
     "output_type": "stream",
     "text": [
      "False\n",
      "False\n",
      "False\n",
      "False\n",
      "False\n",
      "False\n",
      "False\n",
      "False\n",
      "False\n",
      "False\n",
      "False\n",
      "False\n",
      "False\n",
      "False\n",
      "False\n",
      "False\n",
      "False\n",
      "False\n"
     ]
    }
   ],
   "source": [
    "anagram = {}\n",
    "result = []\n",
    "\n",
    "for i, _ in enumerate(strs):\n",
    "    for j in strs[i]:\n",
    "        if len(strs[i]) != len(j):\n",
    "            print(\"False\")\n",
    "        if\n",
    "        "
   ]
  },
  {
   "cell_type": "code",
   "execution_count": 16,
   "metadata": {},
   "outputs": [
    {
     "name": "stdout",
     "output_type": "stream",
     "text": [
      "3\n",
      "3\n",
      "3\n",
      "3\n",
      "3\n",
      "3\n"
     ]
    }
   ],
   "source": [
    "for i in range(len(strs)):\n",
    "    print(len(strs[i]))"
   ]
  },
  {
   "cell_type": "code",
   "execution_count": 20,
   "metadata": {},
   "outputs": [
    {
     "data": {
      "text/plain": [
       "[0, 0, 0, 0, 0, 0, 0, 0, 0, 0, 0, 0, 0, 0, 0, 0, 0, 0, 0, 0, 0, 0, 0, 0, 0, 0]"
      ]
     },
     "execution_count": 20,
     "metadata": {},
     "output_type": "execute_result"
    }
   ],
   "source": [
    "count = [0] * 26\n",
    "count"
   ]
  },
  {
   "cell_type": "code",
   "execution_count": 3,
   "metadata": {},
   "outputs": [],
   "source": [
    "class Solution(object):\n",
    "    def groupAnagrams(self, strs):\n",
    "        \n",
    "        res = defaultdict(list)\n",
    "\n",
    "        for i in strs: \n",
    "            count = [0] * 26    \n",
    "            for c in i: \n",
    "                count[ord(c) - ord(\"a\")] += 1\n",
    "            res[tuple(count)].append(i)\n",
    "        return res.values()"
   ]
  },
  {
   "attachments": {},
   "cell_type": "markdown",
   "metadata": {},
   "source": [
    "idk this one is really hard i dont understand a thing"
   ]
  },
  {
   "cell_type": "code",
   "execution_count": 4,
   "metadata": {},
   "outputs": [
    {
     "ename": "NameError",
     "evalue": "name 'defaultdict' is not defined",
     "output_type": "error",
     "traceback": [
      "\u001b[1;31m---------------------------------------------------------------------------\u001b[0m",
      "\u001b[1;31mNameError\u001b[0m                                 Traceback (most recent call last)",
      "\u001b[1;32mf:\\python shenanigans\\array_hashing\\GroupAnagram.ipynb Cell 8\u001b[0m in \u001b[0;36m<cell line: 2>\u001b[1;34m()\u001b[0m\n\u001b[0;32m      <a href='vscode-notebook-cell:/f%3A/python%20shenanigans/array_hashing/GroupAnagram.ipynb#X11sZmlsZQ%3D%3D?line=0'>1</a>\u001b[0m group \u001b[39m=\u001b[39m Solution()\n\u001b[1;32m----> <a href='vscode-notebook-cell:/f%3A/python%20shenanigans/array_hashing/GroupAnagram.ipynb#X11sZmlsZQ%3D%3D?line=1'>2</a>\u001b[0m group\u001b[39m.\u001b[39;49mgroupAnagrams(strs)\n",
      "\u001b[1;32mf:\\python shenanigans\\array_hashing\\GroupAnagram.ipynb Cell 8\u001b[0m in \u001b[0;36mSolution.groupAnagrams\u001b[1;34m(self, strs)\u001b[0m\n\u001b[0;32m      <a href='vscode-notebook-cell:/f%3A/python%20shenanigans/array_hashing/GroupAnagram.ipynb#X11sZmlsZQ%3D%3D?line=1'>2</a>\u001b[0m \u001b[39mdef\u001b[39;00m \u001b[39mgroupAnagrams\u001b[39m(\u001b[39mself\u001b[39m, strs):\n\u001b[1;32m----> <a href='vscode-notebook-cell:/f%3A/python%20shenanigans/array_hashing/GroupAnagram.ipynb#X11sZmlsZQ%3D%3D?line=3'>4</a>\u001b[0m     res \u001b[39m=\u001b[39m defaultdict(\u001b[39mlist\u001b[39m)\n\u001b[0;32m      <a href='vscode-notebook-cell:/f%3A/python%20shenanigans/array_hashing/GroupAnagram.ipynb#X11sZmlsZQ%3D%3D?line=5'>6</a>\u001b[0m     \u001b[39mfor\u001b[39;00m i \u001b[39min\u001b[39;00m strs: \n\u001b[0;32m      <a href='vscode-notebook-cell:/f%3A/python%20shenanigans/array_hashing/GroupAnagram.ipynb#X11sZmlsZQ%3D%3D?line=6'>7</a>\u001b[0m         count \u001b[39m=\u001b[39m [\u001b[39m0\u001b[39m] \u001b[39m*\u001b[39m \u001b[39m26\u001b[39m    \n",
      "\u001b[1;31mNameError\u001b[0m: name 'defaultdict' is not defined"
     ]
    }
   ],
   "source": [
    "group = Solution()\n",
    "group.groupAnagrams(strs)"
   ]
  },
  {
   "cell_type": "code",
   "execution_count": null,
   "metadata": {},
   "outputs": [],
   "source": []
  }
 ],
 "metadata": {
  "kernelspec": {
   "display_name": "base",
   "language": "python",
   "name": "python3"
  },
  "language_info": {
   "codemirror_mode": {
    "name": "ipython",
    "version": 3
   },
   "file_extension": ".py",
   "mimetype": "text/x-python",
   "name": "python",
   "nbconvert_exporter": "python",
   "pygments_lexer": "ipython3",
   "version": "3.9.12"
  },
  "orig_nbformat": 4
 },
 "nbformat": 4,
 "nbformat_minor": 2
}
