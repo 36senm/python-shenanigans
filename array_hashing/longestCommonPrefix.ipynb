{
 "cells": [
  {
   "cell_type": "code",
   "execution_count": 1,
   "metadata": {},
   "outputs": [],
   "source": [
    "strs = [\"flower\",\"flow\",\"flight\"]"
   ]
  },
  {
   "cell_type": "code",
   "execution_count": 15,
   "metadata": {},
   "outputs": [
    {
     "name": "stdout",
     "output_type": "stream",
     "text": [
      "6\n",
      "4\n",
      "6\n"
     ]
    }
   ],
   "source": [
    "for i in strs:\n",
    "    print(len(i))"
   ]
  },
  {
   "cell_type": "code",
   "execution_count": 24,
   "metadata": {},
   "outputs": [
    {
     "name": "stdout",
     "output_type": "stream",
     "text": [
      "0\n",
      "1\n",
      "2\n"
     ]
    }
   ],
   "source": [
    "for i, _ in enumerate(strs):\n",
    "    print(i)"
   ]
  },
  {
   "cell_type": "code",
   "execution_count": 28,
   "metadata": {},
   "outputs": [
    {
     "name": "stdout",
     "output_type": "stream",
     "text": [
      "f\n",
      "l\n",
      "o\n",
      "w\n",
      "e\n",
      "r\n",
      "f\n",
      "l\n",
      "o\n",
      "w\n",
      "f\n",
      "l\n",
      "i\n",
      "g\n",
      "h\n",
      "t\n"
     ]
    }
   ],
   "source": [
    "for i, _ in enumerate(strs):\n",
    "    for j in strs[i]:\n",
    "        print(j)"
   ]
  },
  {
   "cell_type": "code",
   "execution_count": 35,
   "metadata": {},
   "outputs": [
    {
     "name": "stdout",
     "output_type": "stream",
     "text": [
      "fl\n"
     ]
    }
   ],
   "source": [
    "word = {}\n",
    "for i, _ in enumerate(strs):  \n",
    "    for j in strs[i]:\n",
    "        if j in word:\n",
    "            word[j] += 1\n",
    "        else:\n",
    "            word[j] = 1\n",
    "max_value = 0\n",
    "max_keys = []\n",
    "for k, v in word.items():\n",
    "    if v > max_value:\n",
    "        max_value = v\n",
    "        max_keys = [k]\n",
    "    elif v == max_value:\n",
    "        max_keys.append(k)\n",
    "\n",
    "print(''.join(max_keys))"
   ]
  },
  {
   "attachments": {},
   "cell_type": "markdown",
   "metadata": {},
   "source": [
    "i give up lol\n",
    "i was thinking to create hashmap to store each character, then return the max value chara out of the hashmap. but turns out the method was inefficient and so much step. \n",
    "and so im gonna provide you with some provided answer"
   ]
  },
  {
   "attachments": {},
   "cell_type": "markdown",
   "metadata": {},
   "source": [
    "**Provided Answer**"
   ]
  },
  {
   "cell_type": "code",
   "execution_count": 37,
   "metadata": {},
   "outputs": [
    {
     "name": "stdout",
     "output_type": "stream",
     "text": [
      "flower\n",
      "flow\n",
      "flight\n",
      "flower\n",
      "flow\n",
      "flight\n",
      "flower\n",
      "flow\n",
      "flight\n",
      "flower\n",
      "flow\n",
      "flight\n",
      "flower\n",
      "flow\n",
      "flight\n",
      "flower\n",
      "flow\n",
      "flight\n"
     ]
    }
   ],
   "source": [
    "for i in range(len(strs[0])):\n",
    "    for s in strs:\n",
    "        print(s)"
   ]
  },
  {
   "cell_type": "code",
   "execution_count": null,
   "metadata": {},
   "outputs": [],
   "source": [
    "class Solution(object):\n",
    "    def longestCommonPrefix(self, strs):\n",
    "        res = \"\"\n",
    "\n",
    "        for i in range(len(strs[0])):\n",
    "            "
   ]
  }
 ],
 "metadata": {
  "kernelspec": {
   "display_name": "base",
   "language": "python",
   "name": "python3"
  },
  "language_info": {
   "codemirror_mode": {
    "name": "ipython",
    "version": 3
   },
   "file_extension": ".py",
   "mimetype": "text/x-python",
   "name": "python",
   "nbconvert_exporter": "python",
   "pygments_lexer": "ipython3",
   "version": "3.9.12"
  },
  "orig_nbformat": 4
 },
 "nbformat": 4,
 "nbformat_minor": 2
}
